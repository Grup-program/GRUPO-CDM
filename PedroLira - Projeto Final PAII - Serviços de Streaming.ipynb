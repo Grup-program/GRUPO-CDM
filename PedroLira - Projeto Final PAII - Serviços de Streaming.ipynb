{
 "cells": [
  {
   "cell_type": "markdown",
   "metadata": {},
   "source": [
    "# Import do dataset"
   ]
  },
  {
   "cell_type": "code",
   "execution_count": 116,
   "metadata": {
    "scrolled": true
   },
   "outputs": [
    {
     "data": {
      "text/html": [
       "<div>\n",
       "<style scoped>\n",
       "    .dataframe tbody tr th:only-of-type {\n",
       "        vertical-align: middle;\n",
       "    }\n",
       "\n",
       "    .dataframe tbody tr th {\n",
       "        vertical-align: top;\n",
       "    }\n",
       "\n",
       "    .dataframe thead th {\n",
       "        text-align: right;\n",
       "    }\n",
       "</style>\n",
       "<table border=\"1\" class=\"dataframe\">\n",
       "  <thead>\n",
       "    <tr style=\"text-align: right;\">\n",
       "      <th></th>\n",
       "      <th>Unnamed: 0</th>\n",
       "      <th>Title</th>\n",
       "      <th>Year</th>\n",
       "      <th>Age</th>\n",
       "      <th>IMDb</th>\n",
       "      <th>Rotten Tomatoes</th>\n",
       "      <th>Netflix</th>\n",
       "      <th>Hulu</th>\n",
       "      <th>Prime Video</th>\n",
       "      <th>Disney+</th>\n",
       "      <th>type</th>\n",
       "    </tr>\n",
       "  </thead>\n",
       "  <tbody>\n",
       "    <tr>\n",
       "      <th>0</th>\n",
       "      <td>0</td>\n",
       "      <td>Breaking Bad</td>\n",
       "      <td>2008</td>\n",
       "      <td>18+</td>\n",
       "      <td>9.5</td>\n",
       "      <td>96%</td>\n",
       "      <td>1</td>\n",
       "      <td>0</td>\n",
       "      <td>0</td>\n",
       "      <td>0</td>\n",
       "      <td>1</td>\n",
       "    </tr>\n",
       "    <tr>\n",
       "      <th>1</th>\n",
       "      <td>1</td>\n",
       "      <td>Stranger Things</td>\n",
       "      <td>2016</td>\n",
       "      <td>16+</td>\n",
       "      <td>8.8</td>\n",
       "      <td>93%</td>\n",
       "      <td>1</td>\n",
       "      <td>0</td>\n",
       "      <td>0</td>\n",
       "      <td>0</td>\n",
       "      <td>1</td>\n",
       "    </tr>\n",
       "    <tr>\n",
       "      <th>2</th>\n",
       "      <td>2</td>\n",
       "      <td>Money Heist</td>\n",
       "      <td>2017</td>\n",
       "      <td>18+</td>\n",
       "      <td>8.4</td>\n",
       "      <td>91%</td>\n",
       "      <td>1</td>\n",
       "      <td>0</td>\n",
       "      <td>0</td>\n",
       "      <td>0</td>\n",
       "      <td>1</td>\n",
       "    </tr>\n",
       "    <tr>\n",
       "      <th>3</th>\n",
       "      <td>3</td>\n",
       "      <td>Sherlock</td>\n",
       "      <td>2010</td>\n",
       "      <td>16+</td>\n",
       "      <td>9.1</td>\n",
       "      <td>78%</td>\n",
       "      <td>1</td>\n",
       "      <td>0</td>\n",
       "      <td>0</td>\n",
       "      <td>0</td>\n",
       "      <td>1</td>\n",
       "    </tr>\n",
       "    <tr>\n",
       "      <th>4</th>\n",
       "      <td>4</td>\n",
       "      <td>Better Call Saul</td>\n",
       "      <td>2015</td>\n",
       "      <td>18+</td>\n",
       "      <td>8.7</td>\n",
       "      <td>97%</td>\n",
       "      <td>1</td>\n",
       "      <td>0</td>\n",
       "      <td>0</td>\n",
       "      <td>0</td>\n",
       "      <td>1</td>\n",
       "    </tr>\n",
       "    <tr>\n",
       "      <th>5</th>\n",
       "      <td>5</td>\n",
       "      <td>The Office</td>\n",
       "      <td>2005</td>\n",
       "      <td>16+</td>\n",
       "      <td>8.9</td>\n",
       "      <td>81%</td>\n",
       "      <td>1</td>\n",
       "      <td>0</td>\n",
       "      <td>0</td>\n",
       "      <td>0</td>\n",
       "      <td>1</td>\n",
       "    </tr>\n",
       "    <tr>\n",
       "      <th>6</th>\n",
       "      <td>6</td>\n",
       "      <td>Black Mirror</td>\n",
       "      <td>2011</td>\n",
       "      <td>18+</td>\n",
       "      <td>8.8</td>\n",
       "      <td>83%</td>\n",
       "      <td>1</td>\n",
       "      <td>0</td>\n",
       "      <td>0</td>\n",
       "      <td>0</td>\n",
       "      <td>1</td>\n",
       "    </tr>\n",
       "    <tr>\n",
       "      <th>7</th>\n",
       "      <td>7</td>\n",
       "      <td>Supernatural</td>\n",
       "      <td>2005</td>\n",
       "      <td>16+</td>\n",
       "      <td>8.4</td>\n",
       "      <td>93%</td>\n",
       "      <td>1</td>\n",
       "      <td>0</td>\n",
       "      <td>0</td>\n",
       "      <td>0</td>\n",
       "      <td>1</td>\n",
       "    </tr>\n",
       "    <tr>\n",
       "      <th>8</th>\n",
       "      <td>8</td>\n",
       "      <td>Peaky Blinders</td>\n",
       "      <td>2013</td>\n",
       "      <td>18+</td>\n",
       "      <td>8.8</td>\n",
       "      <td>92%</td>\n",
       "      <td>1</td>\n",
       "      <td>0</td>\n",
       "      <td>0</td>\n",
       "      <td>0</td>\n",
       "      <td>1</td>\n",
       "    </tr>\n",
       "    <tr>\n",
       "      <th>9</th>\n",
       "      <td>9</td>\n",
       "      <td>Avatar: The Last Airbender</td>\n",
       "      <td>2005</td>\n",
       "      <td>7+</td>\n",
       "      <td>9.2</td>\n",
       "      <td>100%</td>\n",
       "      <td>1</td>\n",
       "      <td>0</td>\n",
       "      <td>0</td>\n",
       "      <td>0</td>\n",
       "      <td>1</td>\n",
       "    </tr>\n",
       "    <tr>\n",
       "      <th>10</th>\n",
       "      <td>10</td>\n",
       "      <td>The Walking Dead</td>\n",
       "      <td>2010</td>\n",
       "      <td>18+</td>\n",
       "      <td>8.2</td>\n",
       "      <td>81%</td>\n",
       "      <td>1</td>\n",
       "      <td>0</td>\n",
       "      <td>0</td>\n",
       "      <td>0</td>\n",
       "      <td>1</td>\n",
       "    </tr>\n",
       "    <tr>\n",
       "      <th>11</th>\n",
       "      <td>11</td>\n",
       "      <td>Dark</td>\n",
       "      <td>2017</td>\n",
       "      <td>16+</td>\n",
       "      <td>8.7</td>\n",
       "      <td>94%</td>\n",
       "      <td>1</td>\n",
       "      <td>0</td>\n",
       "      <td>0</td>\n",
       "      <td>0</td>\n",
       "      <td>1</td>\n",
       "    </tr>\n",
       "    <tr>\n",
       "      <th>12</th>\n",
       "      <td>12</td>\n",
       "      <td>Ozark</td>\n",
       "      <td>2017</td>\n",
       "      <td>18+</td>\n",
       "      <td>8.4</td>\n",
       "      <td>81%</td>\n",
       "      <td>1</td>\n",
       "      <td>0</td>\n",
       "      <td>0</td>\n",
       "      <td>0</td>\n",
       "      <td>1</td>\n",
       "    </tr>\n",
       "    <tr>\n",
       "      <th>13</th>\n",
       "      <td>13</td>\n",
       "      <td>Attack on Titan</td>\n",
       "      <td>2013</td>\n",
       "      <td>16+</td>\n",
       "      <td>8.8</td>\n",
       "      <td>94%</td>\n",
       "      <td>1</td>\n",
       "      <td>1</td>\n",
       "      <td>0</td>\n",
       "      <td>0</td>\n",
       "      <td>1</td>\n",
       "    </tr>\n",
       "    <tr>\n",
       "      <th>14</th>\n",
       "      <td>14</td>\n",
       "      <td>Narcos</td>\n",
       "      <td>2015</td>\n",
       "      <td>18+</td>\n",
       "      <td>8.8</td>\n",
       "      <td>89%</td>\n",
       "      <td>1</td>\n",
       "      <td>0</td>\n",
       "      <td>0</td>\n",
       "      <td>0</td>\n",
       "      <td>1</td>\n",
       "    </tr>\n",
       "    <tr>\n",
       "      <th>15</th>\n",
       "      <td>15</td>\n",
       "      <td>Fullmetal Alchemist: Brotherhood</td>\n",
       "      <td>2009</td>\n",
       "      <td>18+</td>\n",
       "      <td>9.1</td>\n",
       "      <td>100%</td>\n",
       "      <td>1</td>\n",
       "      <td>1</td>\n",
       "      <td>0</td>\n",
       "      <td>0</td>\n",
       "      <td>1</td>\n",
       "    </tr>\n",
       "    <tr>\n",
       "      <th>16</th>\n",
       "      <td>16</td>\n",
       "      <td>Community</td>\n",
       "      <td>2009</td>\n",
       "      <td>7+</td>\n",
       "      <td>8.5</td>\n",
       "      <td>88%</td>\n",
       "      <td>1</td>\n",
       "      <td>1</td>\n",
       "      <td>0</td>\n",
       "      <td>0</td>\n",
       "      <td>1</td>\n",
       "    </tr>\n",
       "    <tr>\n",
       "      <th>17</th>\n",
       "      <td>17</td>\n",
       "      <td>Mindhunter</td>\n",
       "      <td>2017</td>\n",
       "      <td>18+</td>\n",
       "      <td>8.6</td>\n",
       "      <td>96%</td>\n",
       "      <td>1</td>\n",
       "      <td>0</td>\n",
       "      <td>0</td>\n",
       "      <td>0</td>\n",
       "      <td>1</td>\n",
       "    </tr>\n",
       "    <tr>\n",
       "      <th>18</th>\n",
       "      <td>18</td>\n",
       "      <td>Parks and Recreation</td>\n",
       "      <td>2009</td>\n",
       "      <td>16+</td>\n",
       "      <td>8.6</td>\n",
       "      <td>93%</td>\n",
       "      <td>1</td>\n",
       "      <td>1</td>\n",
       "      <td>1</td>\n",
       "      <td>0</td>\n",
       "      <td>1</td>\n",
       "    </tr>\n",
       "    <tr>\n",
       "      <th>19</th>\n",
       "      <td>19</td>\n",
       "      <td>Dexter</td>\n",
       "      <td>2006</td>\n",
       "      <td>18+</td>\n",
       "      <td>8.6</td>\n",
       "      <td>72%</td>\n",
       "      <td>1</td>\n",
       "      <td>0</td>\n",
       "      <td>0</td>\n",
       "      <td>0</td>\n",
       "      <td>1</td>\n",
       "    </tr>\n",
       "  </tbody>\n",
       "</table>\n",
       "</div>"
      ],
      "text/plain": [
       "    Unnamed: 0                             Title  Year  Age  IMDb  \\\n",
       "0            0                      Breaking Bad  2008  18+   9.5   \n",
       "1            1                   Stranger Things  2016  16+   8.8   \n",
       "2            2                       Money Heist  2017  18+   8.4   \n",
       "3            3                          Sherlock  2010  16+   9.1   \n",
       "4            4                  Better Call Saul  2015  18+   8.7   \n",
       "5            5                        The Office  2005  16+   8.9   \n",
       "6            6                      Black Mirror  2011  18+   8.8   \n",
       "7            7                      Supernatural  2005  16+   8.4   \n",
       "8            8                    Peaky Blinders  2013  18+   8.8   \n",
       "9            9        Avatar: The Last Airbender  2005   7+   9.2   \n",
       "10          10                  The Walking Dead  2010  18+   8.2   \n",
       "11          11                              Dark  2017  16+   8.7   \n",
       "12          12                             Ozark  2017  18+   8.4   \n",
       "13          13                   Attack on Titan  2013  16+   8.8   \n",
       "14          14                            Narcos  2015  18+   8.8   \n",
       "15          15  Fullmetal Alchemist: Brotherhood  2009  18+   9.1   \n",
       "16          16                         Community  2009   7+   8.5   \n",
       "17          17                        Mindhunter  2017  18+   8.6   \n",
       "18          18              Parks and Recreation  2009  16+   8.6   \n",
       "19          19                            Dexter  2006  18+   8.6   \n",
       "\n",
       "   Rotten Tomatoes  Netflix  Hulu  Prime Video  Disney+  type  \n",
       "0              96%        1     0            0        0     1  \n",
       "1              93%        1     0            0        0     1  \n",
       "2              91%        1     0            0        0     1  \n",
       "3              78%        1     0            0        0     1  \n",
       "4              97%        1     0            0        0     1  \n",
       "5              81%        1     0            0        0     1  \n",
       "6              83%        1     0            0        0     1  \n",
       "7              93%        1     0            0        0     1  \n",
       "8              92%        1     0            0        0     1  \n",
       "9             100%        1     0            0        0     1  \n",
       "10             81%        1     0            0        0     1  \n",
       "11             94%        1     0            0        0     1  \n",
       "12             81%        1     0            0        0     1  \n",
       "13             94%        1     1            0        0     1  \n",
       "14             89%        1     0            0        0     1  \n",
       "15            100%        1     1            0        0     1  \n",
       "16             88%        1     1            0        0     1  \n",
       "17             96%        1     0            0        0     1  \n",
       "18             93%        1     1            1        0     1  \n",
       "19             72%        1     0            0        0     1  "
      ]
     },
     "execution_count": 116,
     "metadata": {},
     "output_type": "execute_result"
    }
   ],
   "source": [
    "import pandas as pd\n",
    "%matplotlib inline\n",
    "import matplotlib.pyplot as plt\n",
    "\n",
    "df = pd.read_csv(\"tv_shows.csv\")\n",
    "df.head(20)"
   ]
  },
  {
   "cell_type": "markdown",
   "metadata": {},
   "source": [
    "# Organização dos dados para mostrar as series por avaliação IMDB"
   ]
  },
  {
   "cell_type": "code",
   "execution_count": null,
   "metadata": {},
   "outputs": [],
   "source": [
    "# FILTRO DOS DADOS\n",
    "#Atribui-se as condições para os intervalos das notas que usamos\n",
    "# Separação dos dados por serviço de streamer\n",
    "nf = df[df['Netflix'] == 1]\n",
    "pv = df[df['Prime Video'] == 1]\n",
    "dy = df[df['Disney+'] == 1]\n",
    "\n",
    "# NETFLIX\n",
    "# TRUE if Netflix IMDb rate is over then 4\n",
    "nf_over4 = nf['IMDb'] > 4\n",
    "# TRUE if Netflix IMDb rate is udner or igual to 8\n",
    "nf_under8 = nf['IMDb'] <= 8\n",
    "# TRUE if Netflix IMDb rate is over then 8\n",
    "nf_over8 = nf['IMDb'] > 8\n",
    "# TRUE if Netflix IMDb rate is udner or igual to 10\n",
    "nf_under10 = nf['IMDb'] <= 10\n",
    "\n",
    "# PRIME VIDEO\n",
    "# TRUE if Prime Video IMDb rate is over then 4\n",
    "pv_over4 = pv['IMDb'] > 4\n",
    "# TRUE if Prime Video IMDb rate is udner or igual to 8\n",
    "pv_under8 = pv['IMDb'] <= 8\n",
    "# TRUE if Prime Video IMDb rate is over then 8\n",
    "pv_over8 = pv['IMDb'] > 8\n",
    "# TRUE if Prime Video IMDb rate is udner or igual to 10\n",
    "pv_under10 = pv['IMDb'] <= 10\n",
    "\n",
    "# DISNEY+\n",
    "# TRUE if Prime Video IMDb rate is over then 4\n",
    "dy_over4 = dy['IMDb'] > 4\n",
    "# TRUE if Prime Video IMDb rate is udner or igual to 8\n",
    "dy_under8 = dy['IMDb'] <= 8\n",
    "# TRUE if Prime Video IMDb rate is over then 8\n",
    "dy_over8 = dy['IMDb'] > 8\n",
    "# TRUE if Prime Video IMDb rate is udner or igual to 10\n",
    "dy_under10 = dy['IMDb'] <= 10"
   ]
  },
  {
   "cell_type": "code",
   "execution_count": 114,
   "metadata": {},
   "outputs": [],
   "source": [
    "# Separação dos dados\n",
    "# Formação de dicionários\n",
    "data_rate = {\n",
    "    'nf': {\n",
    "        '0-4': len(nf[nf['IMDb'] <= 4]),  #verifica as notas com uso do len\n",
    "        '4-8': len(nf[nf_over4 & nf_under8]),\n",
    "        '8-10': len(nf[nf_over8 & nf_under10])\n",
    "    },\n",
    "    'pv': {\n",
    "        '0-4': len(pv[pv['IMDb'] <= 4]),\n",
    "        '4-8': len(pv[pv_over4 & pv_under8]),\n",
    "        '8-10': len(pv[pv_over8 & pv_under10])\n",
    "    },\n",
    "    'dy': {\n",
    "        '0-4': len(dy[dy['IMDb'] <= 4]),\n",
    "        '4-8': len(dy[dy_over4 & dy_under8]),\n",
    "        '8-10': len(dy[dy_over8 & dy_under10])\n",
    "    }\n",
    "}\n",
    "\n",
    "\n"
   ]
  },
  {
   "cell_type": "code",
   "execution_count": 115,
   "metadata": {},
   "outputs": [
    {
     "name": "stdout",
     "output_type": "stream",
     "text": [
      "32\n",
      "1396\n",
      "383\n",
      "----------\n",
      "28\n",
      "986\n",
      "293\n",
      "----------\n",
      "1\n",
      "138\n",
      "30\n"
     ]
    }
   ],
   "source": [
    "# Print dos dados\n",
    "\n",
    "print(data_rate['nf']['0-4'])\n",
    "print(data_rate['nf']['4-8'])\n",
    "print(data_rate['nf']['8-10'])\n",
    "\n",
    "print('----------')\n",
    "\n",
    "print(data_rate['pv']['0-4'])\n",
    "print(data_rate['pv']['4-8'])\n",
    "print(data_rate['pv']['8-10'])\n",
    "\n",
    "print('----------')\n",
    "\n",
    "print(data_rate['dy']['0-4'])\n",
    "print(data_rate['dy']['4-8'])\n",
    "print(data_rate['dy']['8-10'])"
   ]
  },
  {
   "cell_type": "code",
   "execution_count": 3,
   "metadata": {
    "scrolled": true
   },
   "outputs": [
    {
     "data": {
      "text/plain": [
       "Text(0.5, 1.0, 'Séries Netflix x Avaliações IMDb')"
      ]
     },
     "execution_count": 3,
     "metadata": {},
     "output_type": "execute_result"
    },
    {
     "data": {
      "image/png": "[encoded data removed]",
      "text/plain": [
       "<Figure size 432x288 with 1 Axes>"
      ]
     },
     "metadata": {
      "needs_background": "light"
     },
     "output_type": "display_data"
    }
   ],
   "source": [
    "import matplotlib.pyplot as plt\n",
    "intervalo_notas_nf = ['0-4', '4-8' , '8-10']\n",
    "n_series_nf = [32, 1396, 383]\n",
    "plt.bar(intervalo_notas_nf, n_series_nf, color='red')\n",
    "plt.xticks(intervalo_notas_nf)\n",
    "plt.ylabel('Número de Séries')\n",
    "plt.xlabel('Notas no IMDb')\n",
    "plt.title('Séries Netflix x Avaliações IMDb')\n",
    "\n",
    "\n",
    "         \n"
   ]
  },
  {
   "cell_type": "code",
   "execution_count": 5,
   "metadata": {},
   "outputs": [
    {
     "data": {
      "text/plain": [
       "Text(0.5, 1.0, 'Séries Prime Video x Avaliações IMDb')"
      ]
     },
     "execution_count": 5,
     "metadata": {},
     "output_type": "execute_result"
    },
    {
     "data": {
      "image/png": "[encoded data removed]",
      "text/plain": [
       "<Figure size 432x288 with 1 Axes>"
      ]
     },
     "metadata": {
      "needs_background": "light"
     },
     "output_type": "display_data"
    }
   ],
   "source": [
    "import matplotlib.pyplot as plt\n",
    "intervalo_notas_pv = ['0-4', '4-8' , '8-10']\n",
    "n_series_pv = [28, 986, 293]\n",
    "plt.bar(intervalo_notas_pv, n_series_pv, color='purple')\n",
    "plt.xticks(intervalo_notas_pv)\n",
    "plt.ylabel('Número de Séries')\n",
    "plt.xlabel('Notas no IMDb')\n",
    "plt.title('Séries Prime Video x Avaliações IMDb')"
   ]
  },
  {
   "cell_type": "code",
   "execution_count": 7,
   "metadata": {},
   "outputs": [
    {
     "data": {
      "text/plain": [
       "Text(0.5, 1.0, 'Séries Disney + x Avaliações IMDb')"
      ]
     },
     "execution_count": 7,
     "metadata": {},
     "output_type": "execute_result"
    },
    {
     "data": {
      "image/png": "[encoded data removed]",
      "text/plain": [
       "<Figure size 432x288 with 1 Axes>"
      ]
     },
     "metadata": {
      "needs_background": "light"
     },
     "output_type": "display_data"
    }
   ],
   "source": [
    "import matplotlib.pyplot as plt\n",
    "intervalo_notas_dy = ['0-4', '4-8' , '8-10']\n",
    "n_series_dy = [1, 138, 30]\n",
    "plt.bar(intervalo_notas_dy, n_series_dy, color='blue')\n",
    "plt.xticks(intervalo_notas_dy)\n",
    "plt.ylabel('Número de Séries')\n",
    "plt.xlabel('Notas no IMDb')\n",
    "plt.title('Séries Disney + x Avaliações IMDb')"
   ]
  },
  {
   "cell_type": "markdown",
   "metadata": {},
   "source": [
    "# Uso dos dados para demonstração por idade"
   ]
  },
  {
   "cell_type": "code",
   "execution_count": 107,
   "metadata": {},
   "outputs": [
    {
     "data": {
      "image/png": "[encoded data removed]",
      "text/plain": [
       "<Figure size 432x288 with 1 Axes>"
      ]
     },
     "metadata": {},
     "output_type": "display_data"
    }
   ],
   "source": [
    "%matplotlib inline\n",
    "\n",
    "#agora realizamos a visualização em piechart de como os shows da netflix estão\n",
    "#distribuidos conforme a classificação indicativa de idade\n",
    "df = pd.read_csv(\"tv_shows.csv\")\n",
    "df[df.Netflix != 0] = netflix #filtragem para uso dos shows que fazem parte da Netflix\n",
    "netflix_age = netflix['Age'].value_counts()\n",
    "labels = ['16+', '18+', '7+', 'all', '13+']\n",
    "plt.axis(\"equal\")\n",
    "plt.title(\"Netflix - Series de TV por Classificação Indicativa de Idade\")\n",
    "colors = (\"orange\", \"red\", \"green\", \"cyan\", \"yellow\")\n",
    "plt.pie(netflix_age, colors=colors, labels=labels, autopct='%1.1f%%')\n",
    "plt.show()"
   ]
  },
  {
   "cell_type": "code",
   "execution_count": 109,
   "metadata": {},
   "outputs": [
    {
     "data": {
      "image/png": "[encoded data removed]",
      "text/plain": [
       "<Figure size 432x288 with 1 Axes>"
      ]
     },
     "metadata": {},
     "output_type": "display_data"
    }
   ],
   "source": [
    "#repetimos o processo para os demais serviços de streaming\n",
    "#Gráfico dos shows do DisneyPlus por Classificação Indicativa de Idade\n",
    "df = pd.read_csv(\"tv_shows.csv\")\n",
    "disney = df[df['Disney+'] != 0]\n",
    "disney_age = disney['Age'].value_counts()\n",
    "labels = ['all', '7+', '16+']\n",
    "plt.axis(\"equal\")\n",
    "colors = (\"cyan\", \"green\", \"orange\")\n",
    "plt.pie(disney_age, colors=colors, labels=labels, autopct='%1.1f%%')\n",
    "plt.title(\"Disney+ - Series de TV por Classificação Indicativa de Idade\")\n",
    "plt.show()"
   ]
  },
  {
   "cell_type": "code",
   "execution_count": 99,
   "metadata": {},
   "outputs": [
    {
     "name": "stdout",
     "output_type": "stream",
     "text": [
      "all    81\n",
      "7+     66\n",
      "16+     3\n",
      "Name: Age, dtype: int64\n"
     ]
    }
   ],
   "source": [
    "df = pd.read_csv(\"tv_shows.csv\")\n",
    "disney = df[df['Disney+'] != 0]\n",
    "disney_age = disney['Age'].value_counts()\n",
    "print(disney_age)"
   ]
  },
  {
   "cell_type": "code",
   "execution_count": 100,
   "metadata": {},
   "outputs": [
    {
     "name": "stdout",
     "output_type": "stream",
     "text": [
      "7+     224\n",
      "16+    209\n",
      "all    192\n",
      "18+    182\n",
      "13+      1\n",
      "Name: Age, dtype: int64\n"
     ]
    }
   ],
   "source": [
    "df = pd.read_csv(\"tv_shows.csv\")\n",
    "prime = df[df['Prime Video'] != 0]\n",
    "prime_age = prime['Age'].value_counts()\n",
    "print(prime_age)"
   ]
  },
  {
   "cell_type": "code",
   "execution_count": 112,
   "metadata": {},
   "outputs": [
    {
     "data": {
      "image/png": "[encoded data removed]",
      "text/plain": [
       "<Figure size 432x288 with 1 Axes>"
      ]
     },
     "metadata": {},
     "output_type": "display_data"
    }
   ],
   "source": [
    "#Gráfico dos shows do Prime Video por Classificação Indicativa de Idade\n",
    "\n",
    "df = pd.read_csv(\"tv_shows.csv\")\n",
    "prime = df[df['Prime Video'] != 0]\n",
    "prime_age = prime['Age'].value_counts()\n",
    "labels = ['7+', '16+', 'all', '18+', '13+']\n",
    "colors = (\"green\", \"orange\", \"cyan\", \"red\", \"yellow\") \n",
    "plt.axis(\"equal\")\n",
    "plt.pie(prime_age, colors=colors, labels=labels, autopct='%1.1f%%')\n",
    "plt.title(\"Prime Video - Series de TV por Classificação Indicativa de Idade\")\n",
    "plt.show()"
   ]
  },
  {
   "cell_type": "markdown",
   "metadata": {},
   "source": [
    "# Série mais antiga"
   ]
  },
  {
   "cell_type": "code",
   "execution_count": 124,
   "metadata": {},
   "outputs": [
    {
     "data": {
      "text/html": [
       "<div>\n",
       "<style scoped>\n",
       "    .dataframe tbody tr th:only-of-type {\n",
       "        vertical-align: middle;\n",
       "    }\n",
       "\n",
       "    .dataframe tbody tr th {\n",
       "        vertical-align: top;\n",
       "    }\n",
       "\n",
       "    .dataframe thead th {\n",
       "        text-align: right;\n",
       "    }\n",
       "</style>\n",
       "<table border=\"1\" class=\"dataframe\">\n",
       "  <thead>\n",
       "    <tr style=\"text-align: right;\">\n",
       "      <th></th>\n",
       "      <th>Unnamed: 0</th>\n",
       "      <th>Title</th>\n",
       "      <th>Age</th>\n",
       "      <th>IMDb</th>\n",
       "      <th>Rotten Tomatoes</th>\n",
       "      <th>Netflix</th>\n",
       "      <th>Hulu</th>\n",
       "      <th>Prime Video</th>\n",
       "      <th>Disney+</th>\n",
       "      <th>type</th>\n",
       "    </tr>\n",
       "    <tr>\n",
       "      <th>Year</th>\n",
       "      <th></th>\n",
       "      <th></th>\n",
       "      <th></th>\n",
       "      <th></th>\n",
       "      <th></th>\n",
       "      <th></th>\n",
       "      <th></th>\n",
       "      <th></th>\n",
       "      <th></th>\n",
       "      <th></th>\n",
       "    </tr>\n",
       "  </thead>\n",
       "  <tbody>\n",
       "    <tr>\n",
       "      <th>1901</th>\n",
       "      <td>4679</td>\n",
       "      <td>Gods &amp; Monsters with Tony Robinson</td>\n",
       "      <td>NaN</td>\n",
       "      <td>NaN</td>\n",
       "      <td>NaN</td>\n",
       "      <td>0</td>\n",
       "      <td>0</td>\n",
       "      <td>1</td>\n",
       "      <td>0</td>\n",
       "      <td>1</td>\n",
       "    </tr>\n",
       "  </tbody>\n",
       "</table>\n",
       "</div>"
      ],
      "text/plain": [
       "      Unnamed: 0                               Title  Age  IMDb  \\\n",
       "Year                                                              \n",
       "1901        4679  Gods & Monsters with Tony Robinson  NaN   NaN   \n",
       "\n",
       "     Rotten Tomatoes  Netflix  Hulu  Prime Video  Disney+  type  \n",
       "Year                                                             \n",
       "1901             NaN        0     0            1        0     1  "
      ]
     },
     "execution_count": 124,
     "metadata": {},
     "output_type": "execute_result"
    }
   ],
   "source": [
    "df = pd.read_csv(\"tv_shows.csv\")\n",
    "df_year = df.set_index(\"Year\")\n",
    "df_year_sorted = df_year.sort_values(by = \"Year\", inplace = False, ascending = False)\n",
    "df_year_sorted.tail(1)"
   ]
  },
  {
   "cell_type": "markdown",
   "metadata": {},
   "source": [
    "#  Em quantos anos diferentes se realizaram séries?"
   ]
  },
  {
   "cell_type": "code",
   "execution_count": 125,
   "metadata": {},
   "outputs": [
    {
     "name": "stdout",
     "output_type": "stream",
     "text": [
      "foram realizados filmes em 81 anos diferentes\n"
     ]
    }
   ],
   "source": [
    "list_year = df.Year.unique()\n",
    "num_year = len(list_year)\n",
    "print('foram realizados filmes em', num_year,'anos diferentes' )"
   ]
  },
  {
   "cell_type": "markdown",
   "metadata": {},
   "source": [
    "# Avaliações por ano"
   ]
  },
  {
   "cell_type": "code",
   "execution_count": 127,
   "metadata": {},
   "outputs": [
    {
     "data": {
      "image/png": "[encoded data removed]",
      "text/plain": [
       "<Figure size 1440x720 with 1 Axes>"
      ]
     },
     "metadata": {
      "needs_background": "light"
     },
     "output_type": "display_data"
    }
   ],
   "source": [
    "yearList = df[\"Year\"].tolist()\n",
    "IMDbList = df[\"IMDb\"].tolist()\n",
    "\n",
    "plt.bar(yearList, IMDbList, label = 'IMDb rating per year')\n",
    "\n",
    "#custumização do gráfico\n",
    "plt.xlabel('Ano de estreia', fontsize=15)\n",
    "plt.ylabel('Classificação no IMDb', fontsize=15)\n",
    "plt.title('Rating Per year', fontsize=24, fontweight='bold')\n",
    "plt.ylim(6, 10)\n",
    "plt.gcf().set_size_inches(20,10) #mudar o tamanho do gráfico\n",
    "plt.show()"
   ]
  },
  {
   "cell_type": "markdown",
   "metadata": {},
   "source": []
  }
 ],
 "metadata": {
  "kernelspec": {
   "display_name": "Python 3",
   "language": "python",
   "name": "python3"
  },
  "language_info": {
   "codemirror_mode": {
    "name": "ipython",
    "version": 3
   },
   "file_extension": ".py",
   "mimetype": "text/x-python",
   "name": "python",
   "nbconvert_exporter": "python",
   "pygments_lexer": "ipython3",
   "version": "3.8.8"
  }
 },
 "nbformat": 4,
 "nbformat_minor": 4
}
